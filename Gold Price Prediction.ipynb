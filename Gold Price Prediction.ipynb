{
 "cells": [
  {
   "cell_type": "markdown",
   "metadata": {},
   "source": [
    "Importing the Libraries"
   ]
  },
  {
   "cell_type": "code",
   "execution_count": 41,
   "metadata": {},
   "outputs": [],
   "source": [
    "import numpy as np\n",
    "import pandas as pd\n",
    "import matplotlib.pyplot as plt\n",
    "import seaborn as sns\n",
    "from sklearn.model_selection import train_test_split\n",
    "from sklearn.ensemble import RandomForestRegressor\n",
    "from sklearn import metrics"
   ]
  },
  {
   "cell_type": "markdown",
   "metadata": {},
   "source": [
    "Data Collection and Processing"
   ]
  },
  {
   "cell_type": "code",
   "execution_count": 42,
   "metadata": {},
   "outputs": [],
   "source": [
    "# loading the csv data to a Pandas DataFrame\n",
    "gold_data = pd.read_csv('gld_price_data.csv')"
   ]
  },
  {
   "cell_type": "code",
   "execution_count": 43,
   "metadata": {},
   "outputs": [
    {
     "data": {
      "text/html": [
       "<div>\n",
       "<style scoped>\n",
       "    .dataframe tbody tr th:only-of-type {\n",
       "        vertical-align: middle;\n",
       "    }\n",
       "\n",
       "    .dataframe tbody tr th {\n",
       "        vertical-align: top;\n",
       "    }\n",
       "\n",
       "    .dataframe thead th {\n",
       "        text-align: right;\n",
       "    }\n",
       "</style>\n",
       "<table border=\"1\" class=\"dataframe\">\n",
       "  <thead>\n",
       "    <tr style=\"text-align: right;\">\n",
       "      <th></th>\n",
       "      <th>Date</th>\n",
       "      <th>SPX</th>\n",
       "      <th>GLD</th>\n",
       "      <th>USO</th>\n",
       "      <th>SLV</th>\n",
       "      <th>EUR/USD</th>\n",
       "    </tr>\n",
       "  </thead>\n",
       "  <tbody>\n",
       "    <tr>\n",
       "      <th>0</th>\n",
       "      <td>1/2/2008</td>\n",
       "      <td>1447.160034</td>\n",
       "      <td>84.860001</td>\n",
       "      <td>78.470001</td>\n",
       "      <td>15.180</td>\n",
       "      <td>1.471692</td>\n",
       "    </tr>\n",
       "    <tr>\n",
       "      <th>1</th>\n",
       "      <td>1/3/2008</td>\n",
       "      <td>1447.160034</td>\n",
       "      <td>85.570000</td>\n",
       "      <td>78.370003</td>\n",
       "      <td>15.285</td>\n",
       "      <td>1.474491</td>\n",
       "    </tr>\n",
       "    <tr>\n",
       "      <th>2</th>\n",
       "      <td>1/4/2008</td>\n",
       "      <td>1411.630005</td>\n",
       "      <td>85.129997</td>\n",
       "      <td>77.309998</td>\n",
       "      <td>15.167</td>\n",
       "      <td>1.475492</td>\n",
       "    </tr>\n",
       "    <tr>\n",
       "      <th>3</th>\n",
       "      <td>1/7/2008</td>\n",
       "      <td>1416.180054</td>\n",
       "      <td>84.769997</td>\n",
       "      <td>75.500000</td>\n",
       "      <td>15.053</td>\n",
       "      <td>1.468299</td>\n",
       "    </tr>\n",
       "    <tr>\n",
       "      <th>4</th>\n",
       "      <td>1/8/2008</td>\n",
       "      <td>1390.189941</td>\n",
       "      <td>86.779999</td>\n",
       "      <td>76.059998</td>\n",
       "      <td>15.590</td>\n",
       "      <td>1.557099</td>\n",
       "    </tr>\n",
       "  </tbody>\n",
       "</table>\n",
       "</div>"
      ],
      "text/plain": [
       "       Date          SPX        GLD        USO     SLV   EUR/USD\n",
       "0  1/2/2008  1447.160034  84.860001  78.470001  15.180  1.471692\n",
       "1  1/3/2008  1447.160034  85.570000  78.370003  15.285  1.474491\n",
       "2  1/4/2008  1411.630005  85.129997  77.309998  15.167  1.475492\n",
       "3  1/7/2008  1416.180054  84.769997  75.500000  15.053  1.468299\n",
       "4  1/8/2008  1390.189941  86.779999  76.059998  15.590  1.557099"
      ]
     },
     "execution_count": 43,
     "metadata": {},
     "output_type": "execute_result"
    }
   ],
   "source": [
    "# print first 5 rows in the dataframe\n",
    "gold_data.head()"
   ]
  },
  {
   "cell_type": "code",
   "execution_count": 44,
   "metadata": {},
   "outputs": [
    {
     "data": {
      "text/html": [
       "<div>\n",
       "<style scoped>\n",
       "    .dataframe tbody tr th:only-of-type {\n",
       "        vertical-align: middle;\n",
       "    }\n",
       "\n",
       "    .dataframe tbody tr th {\n",
       "        vertical-align: top;\n",
       "    }\n",
       "\n",
       "    .dataframe thead th {\n",
       "        text-align: right;\n",
       "    }\n",
       "</style>\n",
       "<table border=\"1\" class=\"dataframe\">\n",
       "  <thead>\n",
       "    <tr style=\"text-align: right;\">\n",
       "      <th></th>\n",
       "      <th>Date</th>\n",
       "      <th>SPX</th>\n",
       "      <th>GLD</th>\n",
       "      <th>USO</th>\n",
       "      <th>SLV</th>\n",
       "      <th>EUR/USD</th>\n",
       "    </tr>\n",
       "  </thead>\n",
       "  <tbody>\n",
       "    <tr>\n",
       "      <th>2285</th>\n",
       "      <td>5/8/2018</td>\n",
       "      <td>2671.919922</td>\n",
       "      <td>124.589996</td>\n",
       "      <td>14.0600</td>\n",
       "      <td>15.5100</td>\n",
       "      <td>1.186789</td>\n",
       "    </tr>\n",
       "    <tr>\n",
       "      <th>2286</th>\n",
       "      <td>5/9/2018</td>\n",
       "      <td>2697.790039</td>\n",
       "      <td>124.330002</td>\n",
       "      <td>14.3700</td>\n",
       "      <td>15.5300</td>\n",
       "      <td>1.184722</td>\n",
       "    </tr>\n",
       "    <tr>\n",
       "      <th>2287</th>\n",
       "      <td>5/10/2018</td>\n",
       "      <td>2723.070068</td>\n",
       "      <td>125.180000</td>\n",
       "      <td>14.4100</td>\n",
       "      <td>15.7400</td>\n",
       "      <td>1.191753</td>\n",
       "    </tr>\n",
       "    <tr>\n",
       "      <th>2288</th>\n",
       "      <td>5/14/2018</td>\n",
       "      <td>2730.129883</td>\n",
       "      <td>124.489998</td>\n",
       "      <td>14.3800</td>\n",
       "      <td>15.5600</td>\n",
       "      <td>1.193118</td>\n",
       "    </tr>\n",
       "    <tr>\n",
       "      <th>2289</th>\n",
       "      <td>5/16/2018</td>\n",
       "      <td>2725.780029</td>\n",
       "      <td>122.543800</td>\n",
       "      <td>14.4058</td>\n",
       "      <td>15.4542</td>\n",
       "      <td>1.182033</td>\n",
       "    </tr>\n",
       "  </tbody>\n",
       "</table>\n",
       "</div>"
      ],
      "text/plain": [
       "           Date          SPX         GLD      USO      SLV   EUR/USD\n",
       "2285   5/8/2018  2671.919922  124.589996  14.0600  15.5100  1.186789\n",
       "2286   5/9/2018  2697.790039  124.330002  14.3700  15.5300  1.184722\n",
       "2287  5/10/2018  2723.070068  125.180000  14.4100  15.7400  1.191753\n",
       "2288  5/14/2018  2730.129883  124.489998  14.3800  15.5600  1.193118\n",
       "2289  5/16/2018  2725.780029  122.543800  14.4058  15.4542  1.182033"
      ]
     },
     "execution_count": 44,
     "metadata": {},
     "output_type": "execute_result"
    }
   ],
   "source": [
    "# print last 5 rows of the dataframe\n",
    "gold_data.tail()"
   ]
  },
  {
   "cell_type": "code",
   "execution_count": 45,
   "metadata": {},
   "outputs": [
    {
     "data": {
      "text/plain": [
       "(2290, 6)"
      ]
     },
     "execution_count": 45,
     "metadata": {},
     "output_type": "execute_result"
    }
   ],
   "source": [
    "# number of rows and columns\n",
    "gold_data.shape"
   ]
  },
  {
   "cell_type": "code",
   "execution_count": 46,
   "metadata": {},
   "outputs": [
    {
     "name": "stdout",
     "output_type": "stream",
     "text": [
      "<class 'pandas.core.frame.DataFrame'>\n",
      "RangeIndex: 2290 entries, 0 to 2289\n",
      "Data columns (total 6 columns):\n",
      "Date       2290 non-null object\n",
      "SPX        2290 non-null float64\n",
      "GLD        2290 non-null float64\n",
      "USO        2290 non-null float64\n",
      "SLV        2290 non-null float64\n",
      "EUR/USD    2290 non-null float64\n",
      "dtypes: float64(5), object(1)\n",
      "memory usage: 107.4+ KB\n"
     ]
    }
   ],
   "source": [
    "# getting some basic informations about the data\n",
    "gold_data.info()"
   ]
  },
  {
   "cell_type": "code",
   "execution_count": 47,
   "metadata": {},
   "outputs": [
    {
     "data": {
      "text/plain": [
       "Date       0\n",
       "SPX        0\n",
       "GLD        0\n",
       "USO        0\n",
       "SLV        0\n",
       "EUR/USD    0\n",
       "dtype: int64"
      ]
     },
     "execution_count": 47,
     "metadata": {},
     "output_type": "execute_result"
    }
   ],
   "source": [
    "# checking the number of missing values\n",
    "gold_data.isnull().sum()"
   ]
  },
  {
   "cell_type": "code",
   "execution_count": 48,
   "metadata": {},
   "outputs": [
    {
     "data": {
      "text/html": [
       "<div>\n",
       "<style scoped>\n",
       "    .dataframe tbody tr th:only-of-type {\n",
       "        vertical-align: middle;\n",
       "    }\n",
       "\n",
       "    .dataframe tbody tr th {\n",
       "        vertical-align: top;\n",
       "    }\n",
       "\n",
       "    .dataframe thead th {\n",
       "        text-align: right;\n",
       "    }\n",
       "</style>\n",
       "<table border=\"1\" class=\"dataframe\">\n",
       "  <thead>\n",
       "    <tr style=\"text-align: right;\">\n",
       "      <th></th>\n",
       "      <th>SPX</th>\n",
       "      <th>GLD</th>\n",
       "      <th>USO</th>\n",
       "      <th>SLV</th>\n",
       "      <th>EUR/USD</th>\n",
       "    </tr>\n",
       "  </thead>\n",
       "  <tbody>\n",
       "    <tr>\n",
       "      <th>count</th>\n",
       "      <td>2290.000000</td>\n",
       "      <td>2290.000000</td>\n",
       "      <td>2290.000000</td>\n",
       "      <td>2290.000000</td>\n",
       "      <td>2290.000000</td>\n",
       "    </tr>\n",
       "    <tr>\n",
       "      <th>mean</th>\n",
       "      <td>1654.315776</td>\n",
       "      <td>122.732875</td>\n",
       "      <td>31.842221</td>\n",
       "      <td>20.084997</td>\n",
       "      <td>1.283653</td>\n",
       "    </tr>\n",
       "    <tr>\n",
       "      <th>std</th>\n",
       "      <td>519.111540</td>\n",
       "      <td>23.283346</td>\n",
       "      <td>19.523517</td>\n",
       "      <td>7.092566</td>\n",
       "      <td>0.131547</td>\n",
       "    </tr>\n",
       "    <tr>\n",
       "      <th>min</th>\n",
       "      <td>676.530029</td>\n",
       "      <td>70.000000</td>\n",
       "      <td>7.960000</td>\n",
       "      <td>8.850000</td>\n",
       "      <td>1.039047</td>\n",
       "    </tr>\n",
       "    <tr>\n",
       "      <th>25%</th>\n",
       "      <td>1239.874969</td>\n",
       "      <td>109.725000</td>\n",
       "      <td>14.380000</td>\n",
       "      <td>15.570000</td>\n",
       "      <td>1.171313</td>\n",
       "    </tr>\n",
       "    <tr>\n",
       "      <th>50%</th>\n",
       "      <td>1551.434998</td>\n",
       "      <td>120.580002</td>\n",
       "      <td>33.869999</td>\n",
       "      <td>17.268500</td>\n",
       "      <td>1.303296</td>\n",
       "    </tr>\n",
       "    <tr>\n",
       "      <th>75%</th>\n",
       "      <td>2073.010070</td>\n",
       "      <td>132.840004</td>\n",
       "      <td>37.827501</td>\n",
       "      <td>22.882499</td>\n",
       "      <td>1.369971</td>\n",
       "    </tr>\n",
       "    <tr>\n",
       "      <th>max</th>\n",
       "      <td>2872.870117</td>\n",
       "      <td>184.589996</td>\n",
       "      <td>117.480003</td>\n",
       "      <td>47.259998</td>\n",
       "      <td>1.598798</td>\n",
       "    </tr>\n",
       "  </tbody>\n",
       "</table>\n",
       "</div>"
      ],
      "text/plain": [
       "               SPX          GLD          USO          SLV      EUR/USD\n",
       "count  2290.000000  2290.000000  2290.000000  2290.000000  2290.000000\n",
       "mean   1654.315776   122.732875    31.842221    20.084997     1.283653\n",
       "std     519.111540    23.283346    19.523517     7.092566     0.131547\n",
       "min     676.530029    70.000000     7.960000     8.850000     1.039047\n",
       "25%    1239.874969   109.725000    14.380000    15.570000     1.171313\n",
       "50%    1551.434998   120.580002    33.869999    17.268500     1.303296\n",
       "75%    2073.010070   132.840004    37.827501    22.882499     1.369971\n",
       "max    2872.870117   184.589996   117.480003    47.259998     1.598798"
      ]
     },
     "execution_count": 48,
     "metadata": {},
     "output_type": "execute_result"
    }
   ],
   "source": [
    "# getting the statistical measures of the data\n",
    "gold_data.describe()"
   ]
  },
  {
   "cell_type": "code",
   "execution_count": 49,
   "metadata": {},
   "outputs": [],
   "source": [
    "correlation = gold_data.corr()"
   ]
  },
  {
   "cell_type": "code",
   "execution_count": 50,
   "metadata": {},
   "outputs": [
    {
     "data": {
      "text/plain": [
       "<matplotlib.axes._subplots.AxesSubplot at 0x27775782898>"
      ]
     },
     "execution_count": 50,
     "metadata": {},
     "output_type": "execute_result"
    },
    {
     "data": {
      "image/png": "[encoded data removed]",
      "text/plain": [
       "<Figure size 576x576 with 2 Axes>"
      ]
     },
     "metadata": {
      "needs_background": "light"
     },
     "output_type": "display_data"
    }
   ],
   "source": [
    "# constructing a heatmap to understand the correlatiom\n",
    "plt.figure(figsize = (8,8))\n",
    "sns.heatmap(correlation, cbar=True, square=True, fmt='.1f',annot=True, annot_kws={'size':8}, cmap='Blues')"
   ]
  },
  {
   "cell_type": "code",
   "execution_count": 51,
   "metadata": {},
   "outputs": [
    {
     "name": "stdout",
     "output_type": "stream",
     "text": [
      "SPX        0.049345\n",
      "GLD        1.000000\n",
      "USO       -0.186360\n",
      "SLV        0.866632\n",
      "EUR/USD   -0.024375\n",
      "Name: GLD, dtype: float64\n"
     ]
    }
   ],
   "source": [
    "# correlation values of GLD\n",
    "print(correlation['GLD'])"
   ]
  },
  {
   "cell_type": "code",
   "execution_count": 52,
   "metadata": {},
   "outputs": [
    {
     "name": "stderr",
     "output_type": "stream",
     "text": [
      "D:\\annaconda\\lib\\site-packages\\scipy\\stats\\stats.py:1713: FutureWarning: Using a non-tuple sequence for multidimensional indexing is deprecated; use `arr[tuple(seq)]` instead of `arr[seq]`. In the future this will be interpreted as an array index, `arr[np.array(seq)]`, which will result either in an error or a different result.\n",
      "  return np.add.reduce(sorted[indexer] * weights, axis=axis) / sumval\n"
     ]
    },
    {
     "data": {
      "text/plain": [
       "<matplotlib.axes._subplots.AxesSubplot at 0x27776834da0>"
      ]
     },
     "execution_count": 52,
     "metadata": {},
     "output_type": "execute_result"
    },
    {
     "data": {
      "image/png": "[encoded data removed]",
      "text/plain": [
       "<Figure size 432x288 with 1 Axes>"
      ]
     },
     "metadata": {
      "needs_background": "light"
     },
     "output_type": "display_data"
    }
   ],
   "source": [
    "# checking the distribution of the GLD Price\n",
    "sns.distplot(gold_data['GLD'],color='green')"
   ]
  },
  {
   "cell_type": "markdown",
   "metadata": {},
   "source": [
    "Splitting the Features and Target"
   ]
  },
  {
   "cell_type": "code",
   "execution_count": 53,
   "metadata": {},
   "outputs": [],
   "source": [
    "X = gold_data.drop(['Date','GLD'],axis=1)\n",
    "Y = gold_data['GLD']"
   ]
  },
  {
   "cell_type": "code",
   "execution_count": 54,
   "metadata": {},
   "outputs": [
    {
     "name": "stdout",
     "output_type": "stream",
     "text": [
      "              SPX        USO        SLV   EUR/USD\n",
      "0     1447.160034  78.470001  15.180000  1.471692\n",
      "1     1447.160034  78.370003  15.285000  1.474491\n",
      "2     1411.630005  77.309998  15.167000  1.475492\n",
      "3     1416.180054  75.500000  15.053000  1.468299\n",
      "4     1390.189941  76.059998  15.590000  1.557099\n",
      "5     1409.130005  75.250000  15.520000  1.466405\n",
      "6     1420.329956  74.019997  16.061001  1.480100\n",
      "7     1401.020020  73.089996  16.077000  1.479006\n",
      "8     1416.250000  74.250000  16.280001  1.486900\n",
      "9     1380.949951  72.779999  15.834000  1.480210\n",
      "10    1373.199951  71.849998  15.654000  1.466405\n",
      "11    1333.250000  71.029999  15.717000  1.464000\n",
      "12    1325.189941  71.540001  16.030001  1.461796\n",
      "13    1310.500000  70.550003  15.902000  1.464794\n",
      "14    1338.599976  69.500000  15.900000  1.463208\n",
      "15    1352.069946  70.930000  16.299999  1.477410\n",
      "16    1330.609985  71.910004  16.298000  1.467502\n",
      "17    1353.959961  72.349998  16.549999  1.478809\n",
      "18    1362.300049  72.980003  16.534000  1.477192\n",
      "19    1355.810059  73.080002  16.674999  1.483107\n",
      "20    1378.550049  72.349998  16.818001  1.486503\n",
      "21    1395.420044  70.470001  16.618999  1.479991\n",
      "22    1380.819946  71.370003  16.514999  1.482800\n",
      "23    1336.640015  70.150002  16.167000  1.463807\n",
      "24    1326.449951  69.019997  16.375000  1.461710\n",
      "25    1336.910034  69.800003  16.670000  1.447890\n",
      "26    1331.290039  72.900002  17.025999  1.557099\n",
      "27    1339.130005  74.550003  17.400000  1.450200\n",
      "28    1348.859985  73.589996  17.033001  1.458194\n",
      "29    1367.209961  74.110001  17.132000  1.455604\n",
      "...           ...        ...        ...       ...\n",
      "2260  2658.550049  13.210000  15.720000  1.245749\n",
      "2261  2612.620117  13.080000  15.570000  1.240787\n",
      "2262  2605.000000  13.040000  15.360000  1.231027\n",
      "2263  2640.870117  13.090000  15.410000  1.230285\n",
      "2264  2581.879883  12.740000  15.650000  1.229271\n",
      "2265  2614.449951  12.810000  15.460000  1.227853\n",
      "2266  2644.689941  12.820000  15.380000  1.228682\n",
      "2267  2662.840088  12.830000  15.450000  1.225160\n",
      "2268  2613.159912  12.770000  15.560000  1.232240\n",
      "2269  2656.870117  13.250000  15.620000  1.236308\n",
      "2270  2642.189941  13.450000  15.690000  1.237164\n",
      "2271  2663.989990  13.520000  15.520000  1.232970\n",
      "2272  2677.840088  13.380000  15.720000  1.238513\n",
      "2273  2706.389893  13.410000  15.800000  1.237317\n",
      "2274  2708.639893  13.880000  16.180000  1.237915\n",
      "2275  2693.129883  13.770000  16.260000  1.234553\n",
      "2276  2670.290039  13.920000  15.670000  1.220897\n",
      "2277  2634.560059  13.680000  15.760000  1.224140\n",
      "2278  2639.399902  13.720000  15.610000  1.217167\n",
      "2279  2666.939941  13.770000  15.580000  1.210962\n",
      "2280  2648.050049  13.800000  15.380000  1.208123\n",
      "2281  2654.800049  13.610000  15.240000  1.199156\n",
      "2282  2635.669922  13.670000  15.420000  1.195100\n",
      "2283  2629.729980  13.820000  15.460000  1.198926\n",
      "2284  2672.629883  14.100000  15.520000  1.193374\n",
      "2285  2671.919922  14.060000  15.510000  1.186789\n",
      "2286  2697.790039  14.370000  15.530000  1.184722\n",
      "2287  2723.070068  14.410000  15.740000  1.191753\n",
      "2288  2730.129883  14.380000  15.560000  1.193118\n",
      "2289  2725.780029  14.405800  15.454200  1.182033\n",
      "\n",
      "[2290 rows x 4 columns]\n"
     ]
    }
   ],
   "source": [
    "print(X)"
   ]
  },
  {
   "cell_type": "code",
   "execution_count": 55,
   "metadata": {},
   "outputs": [
    {
     "name": "stdout",
     "output_type": "stream",
     "text": [
      "0        84.860001\n",
      "1        85.570000\n",
      "2        85.129997\n",
      "3        84.769997\n",
      "4        86.779999\n",
      "5        86.550003\n",
      "6        88.250000\n",
      "7        88.580002\n",
      "8        89.540001\n",
      "9        87.989998\n",
      "10       86.699997\n",
      "11       86.500000\n",
      "12       87.419998\n",
      "13       88.169998\n",
      "14       87.889999\n",
      "15       90.080002\n",
      "16       90.300003\n",
      "17       91.750000\n",
      "18       91.150002\n",
      "19       92.059998\n",
      "20       91.400002\n",
      "21       89.349998\n",
      "22       89.099998\n",
      "23       87.680000\n",
      "24       88.949997\n",
      "25       89.849998\n",
      "26       91.000000\n",
      "27       91.330002\n",
      "28       89.330002\n",
      "29       89.440002\n",
      "           ...    \n",
      "2260    128.279999\n",
      "2261    127.489998\n",
      "2262    125.730003\n",
      "2263    125.790001\n",
      "2264    127.260002\n",
      "2265    126.300003\n",
      "2266    126.449997\n",
      "2267    125.800003\n",
      "2268    126.820000\n",
      "2269    127.120003\n",
      "2270    128.110001\n",
      "2271    126.620003\n",
      "2272    127.629997\n",
      "2273    127.750000\n",
      "2274    127.849998\n",
      "2275    127.599998\n",
      "2276    125.620003\n",
      "2277    126.230003\n",
      "2278    125.410004\n",
      "2279    124.970001\n",
      "2280    124.589996\n",
      "2281    123.709999\n",
      "2282    123.650002\n",
      "2283    124.279999\n",
      "2284    124.570000\n",
      "2285    124.589996\n",
      "2286    124.330002\n",
      "2287    125.180000\n",
      "2288    124.489998\n",
      "2289    122.543800\n",
      "Name: GLD, Length: 2290, dtype: float64\n"
     ]
    }
   ],
   "source": [
    "print(Y)"
   ]
  },
  {
   "cell_type": "markdown",
   "metadata": {},
   "source": [
    "Splitting into Training data and Test Data"
   ]
  },
  {
   "cell_type": "code",
   "execution_count": 56,
   "metadata": {},
   "outputs": [],
   "source": [
    "X_train, X_test, Y_train, Y_test = train_test_split(X, Y, test_size = 0.2, random_state=2)"
   ]
  },
  {
   "cell_type": "markdown",
   "metadata": {},
   "source": [
    "Model Training: Random Forest Regressor"
   ]
  },
  {
   "cell_type": "code",
   "execution_count": 57,
   "metadata": {},
   "outputs": [],
   "source": [
    "regressor = RandomForestRegressor(n_estimators=100)"
   ]
  },
  {
   "cell_type": "code",
   "execution_count": 58,
   "metadata": {},
   "outputs": [
    {
     "data": {
      "text/plain": [
       "RandomForestRegressor(bootstrap=True, criterion='mse', max_depth=None,\n",
       "           max_features='auto', max_leaf_nodes=None,\n",
       "           min_impurity_decrease=0.0, min_impurity_split=None,\n",
       "           min_samples_leaf=1, min_samples_split=2,\n",
       "           min_weight_fraction_leaf=0.0, n_estimators=100, n_jobs=None,\n",
       "           oob_score=False, random_state=None, verbose=0, warm_start=False)"
      ]
     },
     "execution_count": 58,
     "metadata": {},
     "output_type": "execute_result"
    }
   ],
   "source": [
    "# training the model\n",
    "regressor.fit(X_train,Y_train)"
   ]
  },
  {
   "cell_type": "markdown",
   "metadata": {},
   "source": [
    "Model Evaluation"
   ]
  },
  {
   "cell_type": "code",
   "execution_count": 59,
   "metadata": {},
   "outputs": [],
   "source": [
    "# prediction on Test Data\n",
    "test_data_prediction = regressor.predict(X_test)"
   ]
  },
  {
   "cell_type": "code",
   "execution_count": 60,
   "metadata": {},
   "outputs": [
    {
     "name": "stdout",
     "output_type": "stream",
     "text": [
      "[168.70919967  82.02010001 116.01280015 127.60250119 120.72050179\n",
      " 154.89749747 150.68279944 126.08280023 117.44509849 126.03940037\n",
      " 116.72980046 171.49250092 141.62899877 167.34509868 115.13100004\n",
      " 117.5158007  138.64130326 170.05190044 159.69000314 155.15179961\n",
      " 155.15129978 124.86599991 176.58889979 157.45640337 125.20570036\n",
      "  93.81349942  77.21150028 120.95470011 119.10749925 167.37290016\n",
      "  88.3668007  125.19569973  91.12840079 117.71770003 121.1510997\n",
      " 136.23060129 115.33280111 115.30480078 146.76360036 107.39130091\n",
      " 104.37860247  87.14399789 126.42740045 117.99479997 152.72009857\n",
      " 119.54040004 108.36320034 107.99489817  93.2990007  127.35709691\n",
      "  75.30919994 113.59009903 121.22620054 111.26999912 118.82699874\n",
      " 120.7584998  159.07640022 166.91450118 146.97449673  85.80059872\n",
      "  94.29160059  86.85139917  90.59880033 118.95640089 126.40900059\n",
      " 127.62680008 170.3627     122.1993996  117.42989911  98.25190006\n",
      " 168.14460072 143.12509837 132.27100227 121.06150231 120.59819955\n",
      " 119.67300059 114.2696018  118.28190036 107.2101008  127.93350063\n",
      " 114.02189968 108.07810001 116.40500078 119.68439838  89.06480054\n",
      "  88.22549845 145.95890273 127.33310029 113.30140019 109.66769877\n",
      " 108.27309913  77.67759918 169.06860106 114.09199896 121.53969924\n",
      " 127.8602021  155.03479838  91.7274993  136.04010105 159.47140375\n",
      " 125.60800043 125.53840039 131.0990015  114.57490135 119.81180006\n",
      "  92.12009996 110.30169883 167.2266989  157.4110989  114.22319959\n",
      " 106.68500137  79.82619987 113.15770061 125.79060068 107.214799\n",
      " 119.52580087 156.24350358 158.88849933 120.15510003 134.69320305\n",
      " 101.34629956 117.66919775 119.27210027 112.80290048 102.77129909\n",
      " 159.40349868  99.11980044 147.26279976 125.60030111 169.66509876\n",
      " 125.64189917 127.33099763 127.50380217 113.60169979 112.78800081\n",
      " 123.60319942 102.14189897  89.32539991 124.40279959 101.33369908\n",
      " 107.13579911 114.09440038 117.53890075  99.52999968 121.67730047\n",
      " 163.35899879  87.31769872 106.93079937 117.176001   127.68410145\n",
      " 123.99660056  80.7068991  120.50460047 158.34259814  88.01149987\n",
      " 110.43209894 118.79699923 172.53499855 102.98539925 105.66880041\n",
      " 122.2715005  157.96639802  87.49889816  93.32720047 113.01360037\n",
      " 177.17839955 114.50149978 119.30470038  94.70860085 125.92800046\n",
      " 166.3015014  114.5240002  116.67820138  88.29599837 149.03340135\n",
      " 120.48509949  89.49400015 112.17820041 117.23770022 118.80980135\n",
      "  88.23379942  94.07449997 117.36910041 118.5975016  120.38170096\n",
      " 126.65519849 121.94539985 149.98419978 164.86740079 118.53519943\n",
      " 120.4416014  150.18029989 118.65829942 173.03949879 105.53039921\n",
      " 105.05890089 149.53730149 113.74560071 124.81100068 147.30759979\n",
      " 119.69510129 115.33770035 112.45070034 113.66050201 142.4152015\n",
      " 117.85119766 102.9173003  115.90630112 103.70580181  98.96520037\n",
      " 117.60910076  90.76489995  91.63710058 153.49059884 102.70089989\n",
      " 154.75890057 114.29280164 138.52650162  90.13699818 115.46129922\n",
      " 114.89669983 123.21269998 121.80710019 165.34670133  92.82139951\n",
      " 135.11130126 121.23269979 120.72910079 105.03810028 142.49610251\n",
      " 121.36709902 116.45310016 113.41910066 126.94919788 122.63769939\n",
      " 125.85469977 121.13590061  86.80399888 132.51210193 145.34570157\n",
      "  92.60379948 160.42129996 159.18800287 126.16619969 164.86559978\n",
      " 108.84839949 110.43400099 103.61849833  94.13280078 127.62980238\n",
      " 107.07540027 162.7634995  121.57350041 131.99600034 131.06850161\n",
      " 160.50989952  90.0340986  175.00730123 127.38980071 126.62389927\n",
      "  86.54509937 124.66259951 150.11299752  89.64230042 107.14929925\n",
      " 109.01000002  85.13329912 136.0193995  155.03320327 138.14410339\n",
      "  74.30690016 152.45270145 126.40910071 126.68290008 127.5421985\n",
      " 108.55189947 156.28899944 114.34130135 117.0274016  125.27489934\n",
      " 154.11080197 121.30839989 156.4058985   92.87960028 125.53090159\n",
      " 125.72890024  88.10150063  92.20769915 126.28939887 128.47730331\n",
      " 113.17810037 117.69139773 120.92120003 127.11449839 119.58240107\n",
      " 136.0923009   93.84429873 119.93790022 113.0231009   94.30819944\n",
      " 108.96699992  87.85379923 108.94719946  89.5851995   92.31160021\n",
      " 131.52210299 162.43160064  89.40440017 119.50810083 133.31080174\n",
      " 123.8792002  128.02190137 101.97959854  88.9348985  131.54090077\n",
      " 119.48810012 108.91130017 168.61070072 115.1795005   86.58579899\n",
      " 118.92890057  91.07439975 161.77019951 116.47020041 121.61930011\n",
      " 159.94229793 120.07089951 112.56009936 108.51489879 126.85900011\n",
      "  75.9119002  102.95159976 127.44980182 121.91039936  92.5280002\n",
      " 132.16330011 118.05880092 116.1490999  154.87910279 159.83130064\n",
      " 110.13289997 152.48479809 119.25320068 160.18590074 118.21019971\n",
      " 156.91859961 115.22109891 116.86650047 148.90239912 114.69530046\n",
      " 125.70469865 166.47279985 117.66649985 124.79749973 153.1474039\n",
      " 153.46910166 132.13750069 114.82989997 121.21550235 124.95280076\n",
      "  89.56290056 123.08240023 155.23190266 111.84320034 106.78789955\n",
      " 161.85470132 118.55100007 165.64780025 134.11190083 114.9523\n",
      " 152.88089812 168.8098001  114.97060037 114.02720122 155.81429889\n",
      "  85.08849891 127.06309993 127.9269002  128.68769938 124.20700056\n",
      " 123.79150051  90.71130092 153.10140024  96.94229978 137.74370001\n",
      "  88.84249934 108.04900004 115.15600049 112.60850081 123.92529898\n",
      "  91.50039889 125.38450125 162.61519832 119.87489848 165.04750131\n",
      " 126.67399838 112.34090008 127.59149919  94.63539928  91.13959953\n",
      " 102.99569891 120.8503999   83.17529936 126.44739981 160.93530419\n",
      " 117.45260099 118.2376998  120.38290007 122.62859956 120.12730151\n",
      " 121.77279978 118.33480075 107.13159964 148.26349969 126.13179833\n",
      " 115.7379011   74.0974     127.90120113 154.68390034 122.41410019\n",
      " 125.58310066  88.72550029 103.40819866 124.41140077 120.17010033\n",
      "  73.44150075 151.49880018 121.04690062 104.79349981  86.60549771\n",
      " 115.12529936 172.18359787 120.00250012 160.36309813 113.22680004\n",
      " 120.96670051 118.52130079  95.97239976 119.01239982 125.72360052\n",
      " 118.46129922  96.05870099 154.03130165 122.2333002  147.26780007\n",
      " 159.90110248 114.19460039 122.44919951 150.34419849 126.97470017\n",
      " 166.18830095 135.2876007  120.00949971 167.39199911 108.43289913\n",
      " 121.79289864 139.91680121 106.93749896]\n"
     ]
    }
   ],
   "source": [
    "print(test_data_prediction)"
   ]
  },
  {
   "cell_type": "code",
   "execution_count": 61,
   "metadata": {},
   "outputs": [
    {
     "name": "stdout",
     "output_type": "stream",
     "text": [
      "R squared error :  0.9887708566252417\n"
     ]
    }
   ],
   "source": [
    "# R squared error\n",
    "error_score = metrics.r2_score(Y_test, test_data_prediction)\n",
    "print(\"R squared error : \", error_score)"
   ]
  },
  {
   "cell_type": "markdown",
   "metadata": {},
   "source": [
    "Compare the Actual Values and Predicted Values in a Plot"
   ]
  },
  {
   "cell_type": "code",
   "execution_count": 62,
   "metadata": {},
   "outputs": [],
   "source": [
    "Y_test = list(Y_test)"
   ]
  },
  {
   "cell_type": "code",
   "execution_count": 63,
   "metadata": {},
   "outputs": [
    {
     "data": {
      "image/png": "[encoded data removed]",
      "text/plain": [
       "<Figure size 432x288 with 1 Axes>"
      ]
     },
     "metadata": {
      "needs_background": "light"
     },
     "output_type": "display_data"
    }
   ],
   "source": [
    "plt.plot(Y_test, color='blue', label = 'Actual Value')\n",
    "plt.plot(test_data_prediction, color='green', label='Predicted Value')\n",
    "plt.title('Actual Price vs Predicted Price')\n",
    "plt.xlabel('Number of values')\n",
    "plt.ylabel('GLD Price')\n",
    "plt.legend()\n",
    "plt.show()"
   ]
  },
  {
   "cell_type": "code",
   "execution_count": null,
   "metadata": {},
   "outputs": [],
   "source": []
  }
 ],
 "metadata": {
  "kernelspec": {
   "display_name": "Python 3",
   "language": "python",
   "name": "python3"
  },
  "language_info": {
   "codemirror_mode": {
    "name": "ipython",
    "version": 3
   },
   "file_extension": ".py",
   "mimetype": "text/x-python",
   "name": "python",
   "nbconvert_exporter": "python",
   "pygments_lexer": "ipython3",
   "version": "3.7.1"
  }
 },
 "nbformat": 4,
 "nbformat_minor": 2
}
